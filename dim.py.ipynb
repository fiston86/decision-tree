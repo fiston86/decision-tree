{
 "cells": [
  {
   "cell_type": "code",
   "execution_count": 3,
   "id": "33e8907c",
   "metadata": {},
   "outputs": [
    {
     "data": {
      "text/plain": [
       "array(['hiphop'], dtype=object)"
      ]
     },
     "execution_count": 3,
     "metadata": {},
     "output_type": "execute_result"
    }
   ],
   "source": [
    "import pandas as pd\n",
    "import numpy as np\n",
    "from sklearn.tree import DecisionTreeClassifier\n",
    "from sklearn.model_selection import train_test_split\n",
    "from sklearn.metrics import accuracy_score\n",
    "\n",
    "music_data=pd.read_excel(r\"C:\\Users\\f2f\\Desktop\\kin.xlsx\")\n",
    "music_data.values\n",
    "X=music_data.drop(columns=['genre'])\n",
    "y=music_data['genre']\n",
    "X_train,X_test,y_train,y_test=train_test_split(X,y,test_size=0.8)\n",
    "\n",
    "\n",
    "user=([20,0])\n",
    "X_test=np.array(user)\n",
    "X_test=X_test.reshape(1,-1)\n",
    "model=DecisionTreeClassifier()\n",
    "model.fit(X_train,y_train)\n",
    "model.predict(X_test)\n"
   ]
  },
  {
   "cell_type": "code",
   "execution_count": 2,
   "id": "71ee3f99",
   "metadata": {},
   "outputs": [
    {
     "name": "stdout",
     "output_type": "stream",
     "text": [
      "Je m'appelle Paul Dupont et j'ai 27 ans.\n"
     ]
    }
   ],
   "source": [
    "prenom = \"Paul\"\n",
    "nom = \"Dupont\"\n",
    "age = 27\n",
    "print(\"Je m'appelle {0} {1} et j'ai {2} ans.\".format(prenom,\n",
    "nom, age))\n"
   ]
  }
 ],
 "metadata": {
  "kernelspec": {
   "display_name": "Python 3 (ipykernel)",
   "language": "python",
   "name": "python3"
  },
  "language_info": {
   "codemirror_mode": {
    "name": "ipython",
    "version": 3
   },
   "file_extension": ".py",
   "mimetype": "text/x-python",
   "name": "python",
   "nbconvert_exporter": "python",
   "pygments_lexer": "ipython3",
   "version": "3.9.7"
  }
 },
 "nbformat": 4,
 "nbformat_minor": 5
}
